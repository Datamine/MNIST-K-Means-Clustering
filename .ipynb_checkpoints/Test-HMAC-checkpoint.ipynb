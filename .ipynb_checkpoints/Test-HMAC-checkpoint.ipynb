{
 "metadata": {
  "name": ""
 },
 "nbformat": 3,
 "nbformat_minor": 0,
 "worksheets": [
  {
   "cells": [
    {
     "cell_type": "code",
     "collapsed": false,
     "input": [
      "from random import randint"
     ],
     "language": "python",
     "metadata": {},
     "outputs": [],
     "prompt_number": 1
    },
    {
     "cell_type": "code",
     "collapsed": false,
     "input": [
      "n = 5\n",
      "number_of_tries = []\n",
      "for i in range(100):\n",
      "    count = 0\n",
      "    while True:\n",
      "        new = random.randint(1000000,9999999)\n",
      "        if new%(10**(n-1)) == 0:\n",
      "            number_of_tries.append(count)\n",
      "            break\n",
      "        else:\n",
      "            count+=1"
     ],
     "language": "python",
     "metadata": {},
     "outputs": []
    }
   ],
   "metadata": {}
  }
 ]
}